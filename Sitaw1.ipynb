{
  "cells": [
    {
      "cell_type": "markdown",
      "metadata": {
        "id": "view-in-github",
        "colab_type": "text"
      },
      "source": [
        "<a href=\"https://colab.research.google.com/github/arguntolga/ts_jupyter/blob/main/Sitaw1.ipynb\" target=\"_parent\"><img src=\"https://colab.research.google.com/assets/colab-badge.svg\" alt=\"Open In Colab\"/></a>"
      ]
    },
    {
      "cell_type": "code",
      "execution_count": 5,
      "outputs": [
        {
          "output_type": "stream",
          "name": "stderr",
          "text": [
            "\r[*********************100%%**********************]  1 of 1 completed\n",
            "ERROR:yfinance:\n",
            "1 Failed download:\n",
            "ERROR:yfinance:['^XU100']: Exception('%ticker%: No price data found, symbol may be delisted (1d 2023-01-01 -> 2023-04-20)')\n"
          ]
        },
        {
          "output_type": "stream",
          "name": "stdout",
          "text": [
            "Empty DataFrame\n",
            "Columns: [Open, High, Low, Close, Adj Close, Volume]\n",
            "Index: []\n"
          ]
        }
      ],
      "source": [
        "# prompt: create python code that fetches XU100 (BIST 100) ohlc data daily from a free source\n",
        "\n",
        "import pandas as pd\n",
        "import yfinance as yf\n",
        "\n",
        "# Define the start and end dates for the data you want to fetch.\n",
        "start = \"2023-01-01\"\n",
        "end = \"2023-04-20\"\n",
        "\n",
        "xu100_df = yf.download(\"^XU100\", start=start, end=end)\n",
        "\n",
        "# Print the first five rows of the data.\n",
        "print(xu100_df.head())\n"
      ],
      "metadata": {
        "id": "5c8b3a421378140e",
        "colab": {
          "base_uri": "https://localhost:8080/"
        },
        "outputId": "0d3586af-0955-4843-c8e5-e6ef730bfdc5"
      },
      "id": "5c8b3a421378140e"
    }
  ],
  "metadata": {
    "kernelspec": {
      "display_name": "Python 3",
      "language": "python",
      "name": "python3"
    },
    "language_info": {
      "codemirror_mode": {
        "name": "ipython",
        "version": 2
      },
      "file_extension": ".py",
      "mimetype": "text/x-python",
      "name": "python",
      "nbconvert_exporter": "python",
      "pygments_lexer": "ipython2",
      "version": "2.7.6"
    },
    "colab": {
      "provenance": [],
      "include_colab_link": true
    }
  },
  "nbformat": 4,
  "nbformat_minor": 5
}