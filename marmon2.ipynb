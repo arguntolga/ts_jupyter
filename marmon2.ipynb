{
  "nbformat": 4,
  "nbformat_minor": 0,
  "metadata": {
    "colab": {
      "provenance": [],
      "authorship_tag": "ABX9TyP0BTsvxx2ZLo0wRcP4v5NB",
      "include_colab_link": true
    },
    "kernelspec": {
      "name": "python3",
      "display_name": "Python 3"
    },
    "language_info": {
      "name": "python"
    }
  },
  "cells": [
    {
      "cell_type": "markdown",
      "metadata": {
        "id": "view-in-github",
        "colab_type": "text"
      },
      "source": [
        "<a href=\"https://colab.research.google.com/github/arguntolga/ts_jupyter/blob/main/marmon2.ipynb\" target=\"_parent\"><img src=\"https://colab.research.google.com/assets/colab-badge.svg\" alt=\"Open In Colab\"/></a>"
      ]
    },
    {
      "cell_type": "code",
      "source": [
        "import yfinance as yf\n",
        "import pandas as pd\n",
        "\n",
        "# Define your two stock tickers\n",
        "stock_list = [\"MSFT\", \"NVDA\", \"CVX\", \"TSLA\"]\n",
        "\n",
        "# Set start and end dates\n",
        "start_date = \"2023-01-04\"\n",
        "end_date = \"2024-05-24\"\n",
        "\n",
        "# Download data using yfinance\n",
        "data = yf.download(stock_list, start=start_date, end=end_date)[\"Adj Close\"]\n",
        "\n",
        "print(data)\n",
        "\n",
        "def calculate_moving_averages(stock_list, data, window_sizes):\n",
        "  for stock in stock_list:\n",
        "    for window in window_sizes:\n",
        "      data[stock + '_MA_' + str(window)] = data[stock].rolling(window=window).mean()\n",
        "  return data\n",
        "\n",
        "def calculate_above_below_ma(stock_list, data, window_sizes):\n",
        "  above_below_counts = {}\n",
        "  for date in data.index:\n",
        "    daily_counts = {\"Date\": date}\n",
        "    for window in window_sizes:\n",
        "      above_count = 0\n",
        "      for stock in stock_list:\n",
        "        ma_col = f\"{stock}_MA_{window}\"\n",
        "        above_count += (data.loc[date, stock] > data.loc[date, ma_col])\n",
        "      below_count = len(stock_list) - above_count\n",
        "      daily_counts[\"Above MA\" + str(window)] = above_count\n",
        "      daily_counts[\"Below MA\" + str(window)] = below_count\n",
        "    above_below_counts[date] = daily_counts\n",
        "  return pd.DataFrame(above_below_counts).transpose()\n",
        "\n",
        "# Define window sizes for moving averages\n",
        "window_sizes = [10, 20, 50, 100, 200]\n",
        "\n",
        "# Apply the moving average calculation\n",
        "data_with_ma = calculate_moving_averages(stock_list, data.copy(), window_sizes)\n",
        "print(data_with_ma)\n",
        "\n",
        "# Calculate above/below MA counts\n",
        "above_below_data = calculate_above_below_ma(stock_list, data_with_ma.copy(), window_sizes)\n",
        "\n",
        "print(above_below_data)\n",
        "\n",
        "display(above_below_data)\n",
        "\n"
      ],
      "metadata": {
        "id": "y9dGx21YgMSP"
      },
      "execution_count": null,
      "outputs": []
    }
  ]
}