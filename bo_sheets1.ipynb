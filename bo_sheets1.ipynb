{
  "nbformat": 4,
  "nbformat_minor": 0,
  "metadata": {
    "colab": {
      "provenance": [],
      "include_colab_link": true
    },
    "kernelspec": {
      "name": "python3",
      "display_name": "Python 3"
    },
    "language_info": {
      "name": "python"
    }
  },
  "cells": [
    {
      "cell_type": "markdown",
      "metadata": {
        "id": "view-in-github",
        "colab_type": "text"
      },
      "source": [
        "<a href=\"https://colab.research.google.com/github/arguntolga/ts_jupyter/blob/main/bo_sheets1.ipynb\" target=\"_parent\"><img src=\"https://colab.research.google.com/assets/colab-badge.svg\" alt=\"Open In Colab\"/></a>"
      ]
    },
    {
      "cell_type": "code",
      "execution_count": null,
      "metadata": {
        "id": "cfWmktU4Ra1h"
      },
      "outputs": [],
      "source": [
        "# Gerekli kütüphaneleri yükleyin\n",
        "!pip install git+https://github.com/rongardF/tvdatafeed tradingview-screener matplotlib openpyxl\n",
        "\n",
        "import pandas as pd\n",
        "import numpy as np\n",
        "from tvDatafeed import TvDatafeed, Interval\n",
        "from tradingview_screener import get_all_symbols\n",
        "import warnings\n",
        "import matplotlib.pyplot as plt\n",
        "from tabulate import tabulate\n",
        "\n",
        "warnings.simplefilter(action='ignore', category=FutureWarning)\n",
        "\n",
        "def breakout_strategy(data, period=20):\n",
        "    df = data.copy()\n",
        "    df['High_Max'] = df['High'].rolling(window=period).max()\n",
        "    df['Low_Min'] = df['Low'].rolling(window=period).min()\n",
        "    df['Breakout_Up'] = df['Close'] > df['High_Max'].shift(1)\n",
        "    df['Breakout_Down'] = df['Close'] < df['Low_Min'].shift(1)\n",
        "    return df\n",
        "\n",
        "tv = TvDatafeed()\n",
        "Hisseler = get_all_symbols(market='turkey')\n",
        "Hisseler = [symbol.replace('BIST:', '') for symbol in Hisseler]\n",
        "Hisseler = sorted(Hisseler)\n",
        "\n",
        "# 2 Saatlik, 4 Saatlik ve Günlük veriler için döngü\n",
        "intervals = [Interval.in_daily]\n",
        "#intervals = [Interval.in_2_hour, Interval.in_4_hour, Interval.in_daily]\n",
        "\n",
        "df_all_signals = pd.DataFrame(columns=['Hisse Adı', 'Son Fiyat', 'Breakout Türü', 'Zaman Dilimi'])\n",
        "\n",
        "for interval in intervals:\n",
        "    df_signals_up = []\n",
        "    df_signals_down = []\n",
        "    for i in range(0, len(Hisseler)):\n",
        "        try:\n",
        "            data = tv.get_hist(symbol=Hisseler[i], exchange='BIST', interval=interval, n_bars=500)\n",
        "            data.rename(columns={'open': 'Open', 'high': 'High', 'low': 'Low', 'close': 'Close', 'volume': 'Volume'}, inplace=True)\n",
        "            data = data.reset_index()\n",
        "            breakout_data = breakout_strategy(data, period=20)\n",
        "            breakout_data['datetime'] = pd.to_datetime(breakout_data['datetime'])\n",
        "            breakout_data.set_index('datetime', inplace=True)\n",
        "            last_signal = breakout_data.iloc[-1]\n",
        "            Breakout_Up = last_signal['Breakout_Up']\n",
        "            Breakout_Down = last_signal['Breakout_Down']\n",
        "            Last_Price = last_signal['Close']\n",
        "            if Breakout_Up:\n",
        "                df_signals_up.append([Hisseler[i], Last_Price, 'Breakout Yukarı', interval.name])\n",
        "                df_all_signals.loc[len(df_all_signals)] = [Hisseler[i], Last_Price, 'Breakout Yukarı', interval.name]\n",
        "            elif Breakout_Down:\n",
        "                df_signals_down.append([Hisseler[i], Last_Price, 'Breakout Aşağı', interval.name])\n",
        "                df_all_signals.loc[len(df_all_signals)] = [Hisseler[i], Last_Price, 'Breakout Aşağı', interval.name]\n",
        "        except Exception as e:\n",
        "            print(f\"Error processing {Hisseler[i]}: {e}\")\n",
        "\n",
        "    # Print Breakout Yukarı Sinyalleri\n",
        "    if df_signals_up:\n",
        "        df_up = pd.DataFrame(df_signals_up, columns=['Hisse Adı', 'Son Fiyat', 'Breakout Türü', 'Zaman Dilimi'])\n",
        "        plt.figure(figsize=(10, 6))\n",
        "        table_up = plt.table(cellText=df_up.values, colLabels=df_up.columns, cellLoc='center', loc='center')\n",
        "        table_up.auto_set_font_size(False)\n",
        "        table_up.set_fontsize(10)\n",
        "        table_up.scale(1.5, 1.5)\n",
        "        plt.axis('off')\n",
        "        plt.tight_layout()\n",
        "        plt.savefig(f'breakout_yukari_{interval.name}.png')\n",
        "        plt.show()\n",
        "\n",
        "    # Print Breakout Aşağı Sinyalleri\n",
        "    #if df_signals_down:\n",
        "    #    df_down = pd.DataFrame(df_signals_down, columns=['Hisse Adı', 'Son Fiyat', 'Breakout Türü', 'Zaman Dilimi'])\n",
        "    #    plt.figure(figsize=(10, 6))\n",
        "    #    plt.title(f'Breakout Aşağı Sinyalleri - {interval.name}')\n",
        "    #    table_down = plt.table(cellText=df_down.values, colLabels=df_down.columns, cellLoc='center', loc='center')\n",
        "    #    table_down.auto_set_font_size(False)\n",
        "    #    table_down.set_fontsize(10)\n",
        "    #    table_down.scale(1.5, 1.5)\n",
        "    #    plt.axis('off')\n",
        "    #    plt.tight_layout()\n",
        "    #    plt.savefig(f'breakout_asagi_{interval.name}.png')\n",
        "    #    plt.show()\n",
        "\n",
        "\n",
        "    # Excel dosyasına kaydetme\n",
        "    excel_file = 'breakout_signals.xlsx'\n",
        "    df_all_signals.to_excel(excel_file, index=False)\n",
        "    print(f\"\\nTüm breakout sinyalleri '{excel_file}' dosyasına kaydedildi.\")"
      ]
    }
  ]
}