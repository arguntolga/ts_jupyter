{
  "nbformat": 4,
  "nbformat_minor": 0,
  "metadata": {
    "colab": {
      "provenance": [],
      "authorship_tag": "ABX9TyPdAvaaJ68WoDNdJXldnmXM",
      "include_colab_link": true
    },
    "kernelspec": {
      "name": "python3",
      "display_name": "Python 3"
    },
    "language_info": {
      "name": "python"
    }
  },
  "cells": [
    {
      "cell_type": "markdown",
      "metadata": {
        "id": "view-in-github",
        "colab_type": "text"
      },
      "source": [
        "<a href=\"https://colab.research.google.com/github/arguntolga/ts_jupyter/blob/main/sheets1.ipynb\" target=\"_parent\"><img src=\"https://colab.research.google.com/assets/colab-badge.svg\" alt=\"Open In Colab\"/></a>"
      ]
    },
    {
      "cell_type": "code",
      "source": [
        "import pandas as pd\n",
        "import gspread\n",
        "from google.colab import auth\n",
        "from google.auth import default\n",
        "\n",
        "complete_df = pd.read_excel(\"https://happiness-report.s3.amazonaws.com/2023/DataForFigure2.1WHR2023.xls\")\n",
        "\n",
        "df = complete_df.sort_values(\"Ladder score\", ascending=False)[[\n",
        "    \"Country name\", \"Ladder score\", \"Logged GDP per capita\", \"Social support\",\n",
        "    \"Healthy life expectancy\", \"Freedom to make life choices\",\n",
        "    \"Generosity\", \"Perceptions of corruption\"]]\n",
        "\n",
        "df\n",
        "\n",
        "auth.authenticate_user()\n",
        "creds, _ = default()\n",
        "gc = gspread.authorize(creds)\n",
        "\n",
        "worksheet = gc.open(\"colab_test1\")\n",
        "sheet1 = worksheet.sheet1\n",
        "\n",
        "sheet1.update([df.columns.values.tolist()] + df.fillna(-1).values.tolist())\n"
      ],
      "metadata": {
        "id": "a05A4NqhptUV",
        "outputId": "6732b41e-47bf-4591-99d0-16ad95dd8703",
        "colab": {
          "base_uri": "https://localhost:8080/"
        }
      },
      "execution_count": 4,
      "outputs": [
        {
          "output_type": "execute_result",
          "data": {
            "text/plain": [
              "{'spreadsheetId': '1VQCTsj03Aqkd92oCBo4l8VX7maV2BXVUSUERtTYu12k',\n",
              " 'updatedRange': 'Sheet1!A1:H138',\n",
              " 'updatedRows': 138,\n",
              " 'updatedColumns': 8,\n",
              " 'updatedCells': 1104}"
            ]
          },
          "metadata": {},
          "execution_count": 4
        }
      ]
    }
  ]
}